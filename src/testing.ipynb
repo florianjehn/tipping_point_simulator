{
 "cells": [
  {
   "cell_type": "code",
   "execution_count": 1,
   "metadata": {},
   "outputs": [],
   "source": [
    "def tipping_point(temp_max, temp_min, temp_act):\n",
    "    # Calculate the slope of the line\n",
    "    m = 1 / (temp_max - temp_min)\n",
    "    # Calculate the y-intercept of the line\n",
    "    b = -temp_min / (temp_max - temp_min)\n",
    "    # Use the line equation to calculate the chance\n",
    "    chance = m * temp_act + b\n",
    "    # Ensure the chance is between 0 and 1\n",
    "    chance = max(0, min(1, chance))\n",
    "    return chance"
   ]
  },
  {
   "cell_type": "code",
   "execution_count": 2,
   "metadata": {},
   "outputs": [
    {
     "name": "stdout",
     "output_type": "stream",
     "text": [
      "0.5\n",
      "0.25\n",
      "0.75\n"
     ]
    }
   ],
   "source": [
    "print(tipping_point(100, 0, 50)) # output: 0.5\n",
    "print(tipping_point(100, 0, 25)) # output: 0.25\n",
    "print(tipping_point(100, 0, 75)) # output: 0.75\n"
   ]
  }
 ],
 "metadata": {
  "kernelspec": {
   "display_name": "seaweed-growth-model",
   "language": "python",
   "name": "python3"
  },
  "language_info": {
   "codemirror_mode": {
    "name": "ipython",
    "version": 3
   },
   "file_extension": ".py",
   "mimetype": "text/x-python",
   "name": "python",
   "nbconvert_exporter": "python",
   "pygments_lexer": "ipython3",
   "version": "3.8.13"
  },
  "orig_nbformat": 4,
  "vscode": {
   "interpreter": {
    "hash": "77892e2897ab48d4f924707d9b0416a866ff133812ce8b45e0bccce7af49a9d9"
   }
  }
 },
 "nbformat": 4,
 "nbformat_minor": 2
}
